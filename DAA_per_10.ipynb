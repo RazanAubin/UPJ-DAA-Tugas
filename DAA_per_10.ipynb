{
 "cells": [
  {
   "cell_type": "code",
   "execution_count": 1,
   "metadata": {},
   "outputs": [],
   "source": [
    "import pulp"
   ]
  },
  {
   "cell_type": "code",
   "execution_count": 2,
   "metadata": {},
   "outputs": [],
   "source": [
    "#Instantiate our problem class\n",
    "model = pulp.LpProblem(\"ProfitMaximisingProblem\", pulp.LpMaximize)"
   ]
  },
  {
   "cell_type": "code",
   "execution_count": 3,
   "metadata": {},
   "outputs": [],
   "source": [
    "A = pulp.LpVariable('A', lowBound=0, cat='Integer')\n",
    "B = pulp.LpVariable('B', lowBound=0, cat='Integer')"
   ]
  },
  {
   "cell_type": "code",
   "execution_count": 4,
   "metadata": {},
   "outputs": [],
   "source": [
    "#Objective function\n",
    "model += 4200 * A + 2800 * B, \"Profit\"\n",
    "#Constraints\n",
    "model += 3 * A + 2 * B <= 20\n",
    "model += 4 * A + 3 * B <= 30\n",
    "model += 4 * A + 3 * B <= 44"
   ]
  },
  {
   "cell_type": "code",
   "execution_count": 5,
   "metadata": {},
   "outputs": [
    {
     "data": {
      "text/plain": [
       "'Optimal'"
      ]
     },
     "execution_count": 5,
     "metadata": {},
     "output_type": "execute_result"
    }
   ],
   "source": [
    "#Solve our problem\n",
    "model.solve()\n",
    "pulp.LpStatus[model.status]"
   ]
  },
  {
   "cell_type": "code",
   "execution_count": 6,
   "metadata": {},
   "outputs": [
    {
     "name": "stdout",
     "output_type": "stream",
     "text": [
      "6.0\n",
      "1.0\n"
     ]
    }
   ],
   "source": [
    "#Print our decision variable values\n",
    "print(A.varValue)\n",
    "print(B.varValue)"
   ]
  },
  {
   "cell_type": "code",
   "execution_count": 7,
   "metadata": {},
   "outputs": [
    {
     "name": "stdout",
     "output_type": "stream",
     "text": [
      "28000.0\n"
     ]
    }
   ],
   "source": [
    "#Print our objective function value\n",
    "print(pulp.value(model.objective))"
   ]
  },
  {
   "cell_type": "code",
   "execution_count": 12,
   "metadata": {},
   "outputs": [
    {
     "name": "stdout",
     "output_type": "stream",
     "text": [
      "Status: 1\n",
      "Nilai x = 8.5\n",
      "Nilai y = 0.0\n"
     ]
    }
   ],
   "source": [
    "# 4x + 3y = 34\n",
    "import pulp\n",
    "\n",
    " # Membuat objek masalah optimasi\n",
    "model = pulp.LpProblem(name=\"Pemecahan_Persamaan\", sense=pulp.LpMinimize)\n",
    "\n",
    " #Membuat variable x dan y\n",
    "x = pulp.LpVariable(name=\"x\")\n",
    "y = pulp.LpVariable(name=\"y\")\n",
    "\n",
    " # Menambahkan Batasan\n",
    "model += 4 * x + 3 * y == 34\n",
    "\n",
    " # Menyelesaikan Masalah\n",
    "model.solve()\n",
    "\n",
    " # Menampilkan Hasil\n",
    "print(\"Status:\", model.status)\n",
    "print(\"Nilai x =\", x.varValue)\n",
    "print(\"Nilai y =\", y.varValue)"
   ]
  },
  {
   "cell_type": "code",
   "execution_count": 14,
   "metadata": {},
   "outputs": [
    {
     "name": "stdout",
     "output_type": "stream",
     "text": [
      "14.0\n",
      "8.0\n",
      "44.0\n"
     ]
    }
   ],
   "source": [
    "#latihan soal cerita 2\n",
    "model = pulp.LpProblem(\"KelilingPersegiPanjang\", pulp.LpMaximize)\n",
    "X = pulp.LpVariable('X', lowBound=0, cat='Integer')\n",
    "Y = pulp.LpVariable('Y', lowBound=0, cat='Integer')\n",
    "\n",
    "model += 2 * X + 2 * Y, 'Keliling'\n",
    "\n",
    "model += 2 * X + 2 * Y == 44\n",
    "model += 2 * X + 2 * (X - 6) == 44\n",
    "\n",
    "model.solve()\n",
    "pulp.LpStatus[model.status]\n",
    "\n",
    "print (X.varValue)\n",
    "print (Y.varValue)\n",
    "print (pulp.value(model.objective))"
   ]
  },
  {
   "cell_type": "code",
   "execution_count": 15,
   "metadata": {},
   "outputs": [
    {
     "name": "stdout",
     "output_type": "stream",
     "text": [
      "1000.0\n",
      "2000.0\n",
      "14000.0\n"
     ]
    }
   ],
   "source": [
    "model = pulp.LpProblem(\"ProfitMaximisingProblem\", pulp.LpMaximize)\n",
    "X = pulp.LpVariable('X', lowBound=0, cat='Integer')\n",
    "Y = pulp.LpVariable('Y', lowBound=0, cat='Integer')\n",
    "\n",
    "model += 3 * X + 4 * Y == 11000\n",
    "model += 1 * X + 7 * Y == 15000\n",
    "model += 2 * X + 6 * Y, 'Hasil'\n",
    "\n",
    "model.solve()\n",
    "pulp.LpStatus[model.status]\n",
    "\n",
    "print (X.varValue)\n",
    "print (Y.varValue)\n",
    "print (pulp.value(model.objective))"
   ]
  },
  {
   "cell_type": "code",
   "execution_count": 16,
   "metadata": {},
   "outputs": [
    {
     "name": "stdout",
     "output_type": "stream",
     "text": [
      "14.0\n",
      "8.0\n",
      "44.0\n"
     ]
    }
   ],
   "source": [
    "model = pulp.LpProblem(\"KelilingPersegiPanjang\", pulp.LpMaximize)\n",
    "X = pulp.LpVariable('X', lowBound=0, cat='Integer')\n",
    "Y = pulp.LpVariable('Y', lowBound=0, cat='Integer')\n",
    "\n",
    "model += 2 * X + 2 * Y, 'Keliling'\n",
    "\n",
    "model += 2 * X + 2 * Y == 44\n",
    "model += 2 * X + 2 * (X - 6) == 44\n",
    "\n",
    "model.solve()\n",
    "pulp.LpStatus[model.status]\n",
    "\n",
    "print (X.varValue)\n",
    "print (Y.varValue)\n",
    "print (pulp.value(model.objective))"
   ]
  },
  {
   "cell_type": "code",
   "execution_count": 17,
   "metadata": {},
   "outputs": [
    {
     "name": "stdout",
     "output_type": "stream",
     "text": [
      "Status: 1\n",
      "Nilai x = 7.4\n",
      "Nilai y = 0.0\n"
     ]
    }
   ],
   "source": [
    "# 5x + y = 37\n",
    "import pulp\n",
    "\n",
    " # Membuat objek masalah optimasi\n",
    "model = pulp.LpProblem(name=\"Pemecahan_Persamaan\", sense=pulp.LpMinimize)\n",
    "\n",
    " #Membuat variable x dan y\n",
    "x = pulp.LpVariable(name=\"x\")\n",
    "y = pulp.LpVariable(name=\"y\")\n",
    "\n",
    " # Menambahkan Batasan\n",
    "model += 5 * x + 1 * y == 37\n",
    "\n",
    " # Menyelesaikan Masalah\n",
    "model.solve()\n",
    "\n",
    " # Menampilkan Hasil\n",
    "print(\"Status:\", model.status)\n",
    "print(\"Nilai x =\", x.varValue)\n",
    "print(\"Nilai y =\", y.varValue)"
   ]
  },
  {
   "cell_type": "code",
   "execution_count": 18,
   "metadata": {},
   "outputs": [
    {
     "name": "stdout",
     "output_type": "stream",
     "text": [
      "1000.0\n",
      "2000.0\n",
      "14000.0\n"
     ]
    }
   ],
   "source": [
    "#latihan soal cerita 1\n",
    "model = pulp.LpProblem(\"ProfitMaximisingProblem\", pulp.LpMaximize)\n",
    "X = pulp.LpVariable('X', lowBound=0, cat='Integer')\n",
    "Y = pulp.LpVariable('Y', lowBound=0, cat='Integer')\n",
    "\n",
    "model += 3 * X + 4 * Y == 11000\n",
    "model += 1 * X + 7 * Y == 15000\n",
    "model += 2 * X + 6 * Y, 'Hasil'\n",
    "\n",
    "model.solve()\n",
    "pulp.LpStatus[model.status]\n",
    "\n",
    "print (X.varValue)\n",
    "print (Y.varValue)\n",
    "print (pulp.value(model.objective))"
   ]
  },
  {
   "cell_type": "code",
   "execution_count": 19,
   "metadata": {},
   "outputs": [
    {
     "name": "stdout",
     "output_type": "stream",
     "text": [
      "14.0\n",
      "8.0\n",
      "44.0\n"
     ]
    }
   ],
   "source": [
    "#latihan soal cerita 2\n",
    "model = pulp.LpProblem(\"KelilingPersegiPanjang\", pulp.LpMaximize)\n",
    "X = pulp.LpVariable('X', lowBound=0, cat='Integer')\n",
    "Y = pulp.LpVariable('Y', lowBound=0, cat='Integer')\n",
    "\n",
    "model += 2 * X + 2 * Y, 'Keliling'\n",
    "\n",
    "model += 2 * X + 2 * Y == 44\n",
    "model += 2 * X + 2 * (X - 6) == 44\n",
    "\n",
    "model.solve()\n",
    "pulp.LpStatus[model.status]\n",
    "\n",
    "print (X.varValue)\n",
    "print (Y.varValue)\n",
    "print (pulp.value(model.objective))"
   ]
  },
  {
   "cell_type": "code",
   "execution_count": 20,
   "metadata": {},
   "outputs": [
    {
     "name": "stdout",
     "output_type": "stream",
     "text": [
      "Optimal value: 46.0 \n",
      "x values: [5. 3.] \n",
      "Number of iterations performed: 3 \n",
      "Status\" Optimization terminated successfully. (HiGHS Status 7: Optimal)\n"
     ]
    }
   ],
   "source": [
    "# import required libraries scipy\n",
    "import numpy as np\n",
    "from scipy.optimize import linprog\n",
    "\n",
    "#set the inequality constraints matrix\n",
    "#note : the inequality constraints must be in the from of <=\n",
    "A = np.array([[1,0], [2,3], [1,1], [-1,0], [0,-1]])\n",
    "\n",
    "#set the inequality constraints vector\n",
    "b = np.array([16, 19, 8, 0, 0])\n",
    "\n",
    "# set the coefficients of the linear objective fiunction vector\n",
    "# note : when maximizing, change the signs of the c vector coefficient\n",
    "c = np.array([-5, -7])\n",
    "\n",
    "#solve linear programming problem\n",
    "res = linprog(c, A_ub=A, b_ub=b)\n",
    "\n",
    "# Print reuslt\n",
    "print('Optimal value:', round(res.fun*-1, ndigits=2),\n",
    "'\\nx values:', res.x,\n",
    "'\\nNumber of iterations performed:', res.nit,\n",
    "'\\nStatus\"', res.message)"
   ]
  },
  {
   "cell_type": "code",
   "execution_count": 24,
   "metadata": {},
   "outputs": [
    {
     "name": "stdout",
     "output_type": "stream",
     "text": [
      "Optimal Solution\n",
      "x1 = 5.0\n",
      "x2 = 3.0\n",
      "Max Z = 46.0\n"
     ]
    }
   ],
   "source": [
    "from scipy.optimize import linprog\n",
    "\n",
    "c = [-5, -7]\n",
    "\n",
    "A = [\n",
    "    [1, 0],\n",
    "    [2, 3],\n",
    "    [1, 1]\n",
    "]\n",
    "\n",
    "b = [16, 19, 8]\n",
    "\n",
    "x1_bounds = (0, None)\n",
    "x2_bounds = (0, None)\n",
    "\n",
    "result = linprog(c, A_ub=A, b_ub=b, bounds=[x1_bounds, x2_bounds], method = \"highs\")\n",
    "\n",
    "print(\"Optimal Solution\")\n",
    "print(\"x1 =\", result.x[0])\n",
    "print(\"x2 =\", result.x[1])\n",
    "print(\"Max Z =\", -result.fun)"
   ]
  },
  {
   "cell_type": "code",
   "execution_count": null,
   "metadata": {},
   "outputs": [],
   "source": []
  }
 ],
 "metadata": {
  "kernelspec": {
   "display_name": "Python 3",
   "language": "python",
   "name": "python3"
  },
  "language_info": {
   "codemirror_mode": {
    "name": "ipython",
    "version": 3
   },
   "file_extension": ".py",
   "mimetype": "text/x-python",
   "name": "python",
   "nbconvert_exporter": "python",
   "pygments_lexer": "ipython3",
   "version": "3.11.5"
  }
 },
 "nbformat": 4,
 "nbformat_minor": 2
}
