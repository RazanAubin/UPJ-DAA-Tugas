{
 "cells": [
  {
   "cell_type": "code",
   "execution_count": 2,
   "metadata": {},
   "outputs": [
    {
     "name": "stdout",
     "output_type": "stream",
     "text": [
      "53 37 \n",
      "16 11 \n"
     ]
    }
   ],
   "source": [
    "mat1 = [\n",
    "    [7, 3],\n",
    "    [2, 1],\n",
    "]\n",
    "\n",
    "mat2 = [\n",
    "    [5, 4],\n",
    "    [6, 3],\n",
    "]\n",
    "\n",
    "mat3 = []\n",
    "\n",
    "for x in range (0, len(mat1)):\n",
    "    row = []\n",
    "    for y in range(0, len(mat1[0])):\n",
    "        total = 0\n",
    "        for z in range(0, len(mat1)):\n",
    "            total = total + (mat1[x][z] * mat2[z][y])\n",
    "        row.append(total)\n",
    "    mat3.append(row)\n",
    "    \n",
    "\n",
    "for x in range(0, len(mat3)):\n",
    "    for y in range(0, len(mat3[0])):\n",
    "        print (mat3[x][y], end=' ')\n",
    "    print()"
   ]
  },
  {
   "cell_type": "code",
   "execution_count": 4,
   "metadata": {},
   "outputs": [
    {
     "name": "stdout",
     "output_type": "stream",
     "text": [
      "Hasil dari 4! adalah: 24\n"
     ]
    }
   ],
   "source": [
    "def faktorial(n):\n",
    "    if (n==1):\n",
    "        return n\n",
    "    return faktorial(n-1)*n\n",
    "\n",
    "n = int(input(\"Masukan nilai n: \"))\n",
    "print(f\"Hasil dari {n}! adalah:\", faktorial(n))"
   ]
  },
  {
   "cell_type": "code",
   "execution_count": 5,
   "metadata": {},
   "outputs": [
    {
     "name": "stdout",
     "output_type": "stream",
     "text": [
      "[3, 20, 100, -35, 50]\n",
      "Nilai terbesar:  100\n"
     ]
    }
   ],
   "source": [
    "def nilai_maksimal(deret_bilangan):\n",
    "    nilai_terbesar = deret_bilangan[0]\n",
    "    \n",
    "    for nilai in deret_bilangan:\n",
    "        if nilai > nilai_terbesar:\n",
    "            nilai_terbesar = nilai\n",
    "    \n",
    "    return nilai_terbesar\n",
    "\n",
    "\n",
    "a = [3, 20, 100, -35, 50]\n",
    "\n",
    "print(a)\n",
    "print('Nilai terbesar: ', nilai_maksimal(a))"
   ]
  },
  {
   "cell_type": "code",
   "execution_count": 6,
   "metadata": {},
   "outputs": [
    {
     "name": "stdout",
     "output_type": "stream",
     "text": [
      "False\n",
      "True\n"
     ]
    }
   ],
   "source": [
    "def sequentialSearch(alist, item):\n",
    "    pos = 0\n",
    "    found = False\n",
    "    \n",
    "    while pos < len(alist) and not found:\n",
    "        if alist[pos] == item:\n",
    "            found = True\n",
    "        else:\n",
    "            pos = pos+1\n",
    "    return found\n",
    "\n",
    "testlist = [1, 2, 32, 8, 17, 19, 42, 13, 0]\n",
    "print(sequentialSearch(testlist, 3))\n",
    "print(sequentialSearch(testlist, 2))\n"
   ]
  },
  {
   "cell_type": "code",
   "execution_count": 7,
   "metadata": {},
   "outputs": [
    {
     "name": "stdout",
     "output_type": "stream",
     "text": [
      "[17, 20, 26, 31, 44, 54, 55, 77, 93]\n"
     ]
    }
   ],
   "source": [
    "def bubbleSort(alist):\n",
    "    for passnum in range(len(alist)-1,0,-1):\n",
    "        for i in range(passnum):\n",
    "            if alist[i]>alist[i+1]:\n",
    "                temp = alist[i]\n",
    "                alist[i] = alist[i+1]\n",
    "                alist[i+1] = temp\n",
    "                \n",
    "alist = [54, 26, 93, 17, 77, 31, 44, 55, 20]\n",
    "bubbleSort(alist)\n",
    "print(alist)"
   ]
  },
  {
   "cell_type": "code",
   "execution_count": 26,
   "metadata": {},
   "outputs": [
    {
     "name": "stdout",
     "output_type": "stream",
     "text": [
      "10 bukan angka prima\n"
     ]
    }
   ],
   "source": [
    "x = int(input('input satu angka bulat: '))\n",
    "\n",
    "angka_prima = True\n",
    "if((x == 0) or (x == 1)):\n",
    "    angka_prima = False\n",
    "else:\n",
    "    for i in range(2,(x//2 + 1)):\n",
    "        if ((x % i) == 0):\n",
    "            angka_prima = False\n",
    "            break\n",
    "if(angka_prima):\n",
    "    print(x, 'adalah angka prima')\n",
    "else:\n",
    "    print(x, 'bukan angka prima')"
   ]
  },
  {
   "cell_type": "code",
   "execution_count": 10,
   "metadata": {},
   "outputs": [
    {
     "name": "stdout",
     "output_type": "stream",
     "text": [
      "14.125\n"
     ]
    }
   ],
   "source": [
    "def polynomial_py(a, x):\n",
    "    result = 0\n",
    "    for n, a_n in enumerate(a):\n",
    "        x_power_n = 1\n",
    "        for i in range(n):\n",
    "            x_power_n *= x\n",
    "        result += a_n * x_power_n\n",
    "    return result\n",
    "\n",
    "a = [1, 2, 0, 3]\n",
    "x = 1.5\n",
    "print(polynomial_py(a, x))"
   ]
  },
  {
   "cell_type": "code",
   "execution_count": 11,
   "metadata": {},
   "outputs": [
    {
     "name": "stdout",
     "output_type": "stream",
     "text": [
      "The original string is: GFG is good website\n",
      "The original list is: ['GFG', 'site', 'CS', 'Geeks', 'Tutorial']\n",
      "The list of found substrings :  ['GFG', 'site']\n"
     ]
    }
   ],
   "source": [
    "# Get matching substring in string\n",
    "# Initializing string\n",
    "test_str = \"GFG is good website\"\n",
    "\n",
    "# Initializing potential substrings\n",
    "test_list = [\"GFG\", \"site\", \"CS\", \"Geeks\", \"Tutorial\"]\n",
    "\n",
    "# printing original string\n",
    "print(\"The original string is: \" + test_str)\n",
    "\n",
    "# printing potential strings list\n",
    "print(\"The original list is: \" + str(test_list))\n",
    "\n",
    "# Using list comprehension\n",
    "# Get matching substrings in string\n",
    "res = [sub for sub in test_list if sub in test_str]\n",
    "\n",
    "# printing result\n",
    "print(\"The list of found substrings : \", str(res))"
   ]
  },
  {
   "cell_type": "code",
   "execution_count": 14,
   "metadata": {},
   "outputs": [
    {
     "name": "stdout",
     "output_type": "stream",
     "text": [
      "Titik:\n",
      " [[25, 15], [6, 44], [60, 4]]\n",
      "Titk:  [25, 15] Titik:  [6, 44] :  34.66987164671943\n",
      "Titk:  [25, 15] Titik:  [60, 4] :  36.68787265568828\n",
      "Titk:  [6, 44] Titik:  [60, 4] :  67.20119046564577\n",
      "Jarak terdekat:\n",
      " 34.66987164671943\n"
     ]
    }
   ],
   "source": [
    "from math import sqrt\n",
    "from random import randint\n",
    "titik = []\n",
    "n = int(input('Masukan jumlah titik  yng ingin Anda cari jaraknya: '))\n",
    "for i in range (0,n):\n",
    "    titik.append([randint(0,100),randint(0,100)])\n",
    "print('Titik:\\n', titik)\n",
    "def hitungjarak(lis):\n",
    "    lisjarak = []\n",
    "    for i in range (0, len(lis)-1):\n",
    "        for j in range (i+1, len(lis)):\n",
    "            jarak = sqrt((lis[i][0]-lis[j][0])**2 + (lis[i][1]-lis[j][1])**2)\n",
    "            lisjarak.append(jarak)\n",
    "            print('Titk: ', lis[i], 'Titik: ', lis[j],': ',jarak)\n",
    "    return min(lisjarak)\n",
    "print('Jarak terdekat:\\n', hitungjarak(titik))"
   ]
  },
  {
   "cell_type": "code",
   "execution_count": 27,
   "metadata": {},
   "outputs": [
    {
     "name": "stdout",
     "output_type": "stream",
     "text": [
      "100\n"
     ]
    }
   ],
   "source": [
    "# Find Maximum Value in Linear Search\n",
    "def find_maximum(lst):\n",
    "    max = None\n",
    "    for el in lst:\n",
    "        if max == None or el > max:\n",
    "            max = el\n",
    "    return max\n",
    "test_scores = [88, 93, 75, 100, 80, 67, 71, 92, 90, 83]\n",
    "print(find_maximum(test_scores))"
   ]
  },
  {
   "cell_type": "code",
   "execution_count": 28,
   "metadata": {},
   "outputs": [
    {
     "name": "stdout",
     "output_type": "stream",
     "text": [
      "[17, 20, 26, 31, 44, 54, 55, 77, 93]\n"
     ]
    }
   ],
   "source": [
    "def bubbleSort(alist):\n",
    "    for passnum in range(len(alist)-1,0,-1):\n",
    "        for i in range(passnum):\n",
    "            if alist[i]>alist[i+1]:\n",
    "                temp = alist[i]\n",
    "                alist[i] = alist[i+1]\n",
    "                alist[i+1] = temp\n",
    "                \n",
    "alist = [54, 26, 93, 17, 77, 31, 44, 55, 20]\n",
    "bubbleSort(alist)\n",
    "print(alist)"
   ]
  },
  {
   "cell_type": "code",
   "execution_count": 30,
   "metadata": {},
   "outputs": [
    {
     "name": "stdout",
     "output_type": "stream",
     "text": [
      "(True, 3)\n"
     ]
    }
   ],
   "source": [
    "def Sequqntial_Search(dlist, item):\n",
    "    \n",
    "    pos = 0\n",
    "    found = False\n",
    "    \n",
    "    while pos < len(dlist) and not found:\n",
    "        if dlist[pos] == item:\n",
    "           found = True\n",
    "        else:\n",
    "            pos = pos + 1\n",
    "            \n",
    "    return found, pos \n",
    "\n",
    "print(Sequqntial_Search([11, 23, 58, 31, 56, 77, 43, 12, 65, 19],31))"
   ]
  },
  {
   "cell_type": "code",
   "execution_count": 32,
   "metadata": {},
   "outputs": [
    {
     "name": "stdout",
     "output_type": "stream",
     "text": [
      "Hasil = 4096\n"
     ]
    }
   ],
   "source": [
    "bilangan = int(input('Masukkan bilangan: '))\n",
    "pangkat = int(input('Masukan pangkat: '))\n",
    "\n",
    "def hitung_pangkat(bilangan, pangkat):\n",
    "    if pangkat > 1:\n",
    "        return bilangan * hitung_pangkat(bilangan, pangkat - 1)\n",
    "    \n",
    "    return bilangan\n",
    "\n",
    "hasil = hitung_pangkat(bilangan, pangkat)\n",
    "print(f'Hasil = {hasil}')"
   ]
  },
  {
   "cell_type": "code",
   "execution_count": 33,
   "metadata": {},
   "outputs": [
    {
     "name": "stdout",
     "output_type": "stream",
     "text": [
      "5! = 120\n"
     ]
    }
   ],
   "source": [
    "n = int(input('Masukan nilai n:'))\n",
    "\n",
    "def hitung_faktorial (n):\n",
    "    if n > 2:\n",
    "        return n * hitung_faktorial(n-1)\n",
    "\n",
    "    return 2\n",
    "\n",
    "faktorial = hitung_faktorial(n)\n",
    "print(f'{n}! = {faktorial}')"
   ]
  },
  {
   "cell_type": "code",
   "execution_count": 44,
   "metadata": {},
   "outputs": [
    {
     "name": "stdout",
     "output_type": "stream",
     "text": [
      "4\n"
     ]
    }
   ],
   "source": [
    "def string_match(string, sub_str):\n",
    "# brute force string matching   \n",
    "    for i in range(len(string)-len(sub_str)+1):\n",
    "        index  = i\n",
    "        for j in range(len(sub_str)):\n",
    "            if string[index] == sub_str[j]:\n",
    "                index += 1\n",
    "            else:\n",
    "                break\n",
    "            if index-i == len(sub_str):\n",
    "                return i\n",
    "    return -1\n",
    "    \n",
    "if __name__ == \"__main__\":\n",
    "    print(string_match(\"adbcbdc\", \"bdc\"))"
   ]
  },
  {
   "cell_type": "code",
   "execution_count": 64,
   "metadata": {},
   "outputs": [],
   "source": [
    "import random\n",
    "from itertools import permutations\n",
    "alltours = permutations\n",
    "\n",
    "def distance_tour(aTour):\n",
    "  return sum ( distance_points (aTour [i - 1], aTour[i])\n",
    "    for i in range (len(aTour)))\n",
    "\n",
    "aCity = complex\n",
    "\n",
    "def distance_points (first, second):\n",
    "  return abs(first - second)\n",
    "\n",
    "def generate_cities (number_of_cities):\n",
    "  seed = 111; width = 500; height = 300\n",
    "  random.seed ((number_of_cities, seed))\n",
    "  return frozenset (aCity(random.randint (1, width), random.randint (1, height))\n",
    "    for c in range (number_of_cities))"
   ]
  },
  {
   "cell_type": "code",
   "execution_count": 65,
   "metadata": {},
   "outputs": [],
   "source": [
    "%matplotlib inline \n",
    "import matplotlib.pyplot as plt\n",
    "\n",
    "def visualize_tour (tour, style = 'bo-'):\n",
    "  if len(tour) > 1000:\n",
    "    plt.figure (figsize = (15, 10))\n",
    "  start = tour [0:1]\n",
    "  visualize_segment (tour + start, style)\n",
    "  visualize_segment (start, 'rD')\n",
    "\n",
    "def visualize_segment (segment, style = 'bo-'):\n",
    "  plt.plot([X(c) for c in segment], [Y(c) for c in segment], style, clip_on = False)\n",
    "  plt.axis ('scaled')\n",
    "  plt.axis ('off')\n",
    "\n",
    "def X (city) : 'X axis'; return city.real\n",
    "\n",
    "def Y (city) : 'Y axis'; return city.imag"
   ]
  },
  {
   "cell_type": "code",
   "execution_count": 66,
   "metadata": {},
   "outputs": [],
   "source": [
    "from time import process_time\n",
    "from collections import Counter\n",
    "def tsp (algorithm, cities):\n",
    "  t0 = process_time()\n",
    "  tour = algorithm(cities)\n",
    "  t1 = process_time()\n",
    "  assert Counter (tour) == Counter (cities)\n",
    "  visualize_tour (tour)\n",
    "  print (\"{}:{} cities => tour length {:.0f}(in {:.3f} sec)\". format(name(algorithm), len(tour), distance_tour(tour), t1-t0))\n",
    "\n",
    "def name(algorithm):\n",
    "  return algorithm.__name__.replace ('_tsp', '')"
   ]
  },
  {
   "cell_type": "code",
   "execution_count": 67,
   "metadata": {},
   "outputs": [],
   "source": [
    "def brute_force (cities):\n",
    "  \"Generate all possible tours of the cities and choose the shortest tour.\"\n",
    "  return shortest_tour (alltours (cities))\n",
    "\n",
    "def shortest_tour (tours) : \n",
    "  return min (tours, key = distance_tour)\n",
    "     "
   ]
  },
  {
   "cell_type": "code",
   "execution_count": 69,
   "metadata": {},
   "outputs": [
    {
     "ename": "TypeError",
     "evalue": "The only supported seed types are: None,\nint, float, str, bytes, and bytearray.",
     "output_type": "error",
     "traceback": [
      "\u001b[1;31m---------------------------------------------------------------------------\u001b[0m",
      "\u001b[1;31mTypeError\u001b[0m                                 Traceback (most recent call last)",
      "\u001b[1;32mc:\\UPJ\\UPJ\\VsCode\\DAA\\Latihan\\DAA_per_7.ipynb Cell 20\u001b[0m line \u001b[0;36m1\n\u001b[1;32m----> <a href='vscode-notebook-cell:/c%3A/UPJ/UPJ/VsCode/DAA/Latihan/DAA_per_7.ipynb#X35sZmlsZQ%3D%3D?line=0'>1</a>\u001b[0m tsp (brute_force, generate_cities(\u001b[39m10\u001b[39;49m))\n",
      "\u001b[1;32mc:\\UPJ\\UPJ\\VsCode\\DAA\\Latihan\\DAA_per_7.ipynb Cell 20\u001b[0m line \u001b[0;36m1\n\u001b[0;32m     <a href='vscode-notebook-cell:/c%3A/UPJ/UPJ/VsCode/DAA/Latihan/DAA_per_7.ipynb#X35sZmlsZQ%3D%3D?line=13'>14</a>\u001b[0m \u001b[39mdef\u001b[39;00m \u001b[39mgenerate_cities\u001b[39m (number_of_cities):\n\u001b[0;32m     <a href='vscode-notebook-cell:/c%3A/UPJ/UPJ/VsCode/DAA/Latihan/DAA_per_7.ipynb#X35sZmlsZQ%3D%3D?line=14'>15</a>\u001b[0m   seed \u001b[39m=\u001b[39m \u001b[39m111\u001b[39m; width \u001b[39m=\u001b[39m \u001b[39m500\u001b[39m; height \u001b[39m=\u001b[39m \u001b[39m300\u001b[39m\n\u001b[1;32m---> <a href='vscode-notebook-cell:/c%3A/UPJ/UPJ/VsCode/DAA/Latihan/DAA_per_7.ipynb#X35sZmlsZQ%3D%3D?line=15'>16</a>\u001b[0m   random\u001b[39m.\u001b[39;49mseed ((number_of_cities, seed))\n\u001b[0;32m     <a href='vscode-notebook-cell:/c%3A/UPJ/UPJ/VsCode/DAA/Latihan/DAA_per_7.ipynb#X35sZmlsZQ%3D%3D?line=16'>17</a>\u001b[0m   \u001b[39mreturn\u001b[39;00m \u001b[39mfrozenset\u001b[39m (aCity(random\u001b[39m.\u001b[39mrandint (\u001b[39m1\u001b[39m, width), random\u001b[39m.\u001b[39mrandint (\u001b[39m1\u001b[39m, height))\n\u001b[0;32m     <a href='vscode-notebook-cell:/c%3A/UPJ/UPJ/VsCode/DAA/Latihan/DAA_per_7.ipynb#X35sZmlsZQ%3D%3D?line=17'>18</a>\u001b[0m     \u001b[39mfor\u001b[39;00m c \u001b[39min\u001b[39;00m \u001b[39mrange\u001b[39m (number_of_cities))\n",
      "File \u001b[1;32mc:\\Users\\Razan Aubin\\AppData\\Local\\Programs\\Python\\Python311\\Lib\\random.py:160\u001b[0m, in \u001b[0;36mRandom.seed\u001b[1;34m(self, a, version)\u001b[0m\n\u001b[0;32m    157\u001b[0m     a \u001b[39m=\u001b[39m \u001b[39mint\u001b[39m\u001b[39m.\u001b[39mfrom_bytes(a \u001b[39m+\u001b[39m _sha512(a)\u001b[39m.\u001b[39mdigest())\n\u001b[0;32m    159\u001b[0m \u001b[39melif\u001b[39;00m \u001b[39mnot\u001b[39;00m \u001b[39misinstance\u001b[39m(a, (\u001b[39mtype\u001b[39m(\u001b[39mNone\u001b[39;00m), \u001b[39mint\u001b[39m, \u001b[39mfloat\u001b[39m, \u001b[39mstr\u001b[39m, \u001b[39mbytes\u001b[39m, \u001b[39mbytearray\u001b[39m)):\n\u001b[1;32m--> 160\u001b[0m     \u001b[39mraise\u001b[39;00m \u001b[39mTypeError\u001b[39;00m(\u001b[39m'\u001b[39m\u001b[39mThe only supported seed types are: None,\u001b[39m\u001b[39m\\n\u001b[39;00m\u001b[39m'\u001b[39m\n\u001b[0;32m    161\u001b[0m                     \u001b[39m'\u001b[39m\u001b[39mint, float, str, bytes, and bytearray.\u001b[39m\u001b[39m'\u001b[39m)\n\u001b[0;32m    163\u001b[0m \u001b[39msuper\u001b[39m()\u001b[39m.\u001b[39mseed(a)\n\u001b[0;32m    164\u001b[0m \u001b[39mself\u001b[39m\u001b[39m.\u001b[39mgauss_next \u001b[39m=\u001b[39m \u001b[39mNone\u001b[39;00m\n",
      "\u001b[1;31mTypeError\u001b[0m: The only supported seed types are: None,\nint, float, str, bytes, and bytearray."
     ]
    }
   ],
   "source": [
    "tsp (brute_force, generate_cities(10))"
   ]
  }
 ],
 "metadata": {
  "kernelspec": {
   "display_name": "Python 3",
   "language": "python",
   "name": "python3"
  },
  "language_info": {
   "codemirror_mode": {
    "name": "ipython",
    "version": 3
   },
   "file_extension": ".py",
   "mimetype": "text/x-python",
   "name": "python",
   "nbconvert_exporter": "python",
   "pygments_lexer": "ipython3",
   "version": "3.11.5"
  }
 },
 "nbformat": 4,
 "nbformat_minor": 2
}
