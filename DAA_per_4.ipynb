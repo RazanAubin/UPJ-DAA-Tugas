{
  "nbformat": 4,
  "nbformat_minor": 0,
  "metadata": {
    "colab": {
      "provenance": []
    },
    "kernelspec": {
      "name": "python3",
      "display_name": "Python 3"
    },
    "language_info": {
      "name": "python"
    }
  },
  "cells": [
    {
      "cell_type": "code",
      "execution_count": 1,
      "metadata": {
        "colab": {
          "base_uri": "https://localhost:8080/"
        },
        "id": "6LyNFVXglCDT",
        "outputId": "68123bf3-8420-413d-fac5-00e608758ff8"
      },
      "outputs": [
        {
          "output_type": "stream",
          "name": "stdout",
          "text": [
            "2 1\n"
          ]
        }
      ],
      "source": [
        "# fungsi swap variabel ketiga\n",
        "var1 = 1\n",
        "var2 = 2\n",
        "var3 = 3\n",
        "var1, var2 = var2, var1\n",
        "print (var1, var2)"
      ]
    },
    {
      "cell_type": "code",
      "source": [
        "var1, var2, var3 = var1, var2, var3\n",
        "print (var1, var2, var3)"
      ],
      "metadata": {
        "colab": {
          "base_uri": "https://localhost:8080/"
        },
        "id": "mh_NWpZ4lO1S",
        "outputId": "8f0b364f-53bd-47ff-e289-af8d89542e94"
      },
      "execution_count": 2,
      "outputs": [
        {
          "output_type": "stream",
          "name": "stdout",
          "text": [
            "2 1 3\n"
          ]
        }
      ]
    },
    {
      "cell_type": "code",
      "source": [
        "list = [7, 5, 4, 3, 6, 8, 9]"
      ],
      "metadata": {
        "id": "9XHCp0o0lO_m"
      },
      "execution_count": 3,
      "outputs": []
    },
    {
      "cell_type": "code",
      "source": [
        "Last_Element_Index = len(list)-1\n",
        "print (0, list)\n",
        "for idx in range (Last_Element_Index):\n",
        "  if list [idx] > list [idx+1]:\n",
        "    list [idx], list [idx+1] = list [idx+1], list [idx]\n",
        "  print (idx+1, list)\n"
      ],
      "metadata": {
        "colab": {
          "base_uri": "https://localhost:8080/"
        },
        "id": "hLOGTJ5nlPGl",
        "outputId": "b17172a1-0eb3-44ae-851f-0d2d42041ed4"
      },
      "execution_count": 4,
      "outputs": [
        {
          "output_type": "stream",
          "name": "stdout",
          "text": [
            "0 [7, 5, 4, 3, 6, 8, 9]\n",
            "1 [5, 7, 4, 3, 6, 8, 9]\n",
            "2 [5, 4, 7, 3, 6, 8, 9]\n",
            "3 [5, 4, 3, 7, 6, 8, 9]\n",
            "4 [5, 4, 3, 6, 7, 8, 9]\n",
            "5 [5, 4, 3, 6, 7, 8, 9]\n",
            "6 [5, 4, 3, 6, 7, 8, 9]\n"
          ]
        }
      ]
    },
    {
      "cell_type": "code",
      "source": [
        "list"
      ],
      "metadata": {
        "colab": {
          "base_uri": "https://localhost:8080/"
        },
        "id": "m9GYnOo_lPNE",
        "outputId": "737796f8-9a03-49fa-a4a6-18dee8ba06d0"
      },
      "execution_count": 5,
      "outputs": [
        {
          "output_type": "execute_result",
          "data": {
            "text/plain": [
              "[5, 4, 3, 6, 7, 8, 9]"
            ]
          },
          "metadata": {},
          "execution_count": 5
        }
      ]
    },
    {
      "cell_type": "code",
      "source": [
        "def BubbleSort (list):\n",
        "  Last_Element_Index = len(list)-1\n",
        "  for passNum in range (Last_Element_Index, 0, -1):\n",
        "    for idx in range (passNum):\n",
        "      if list [idx] > list [idx+1]:\n",
        "        list [idx], list [idx+1] = list[idx+1], list[idx]\n",
        "  return list"
      ],
      "metadata": {
        "id": "rauadA_ulPSs"
      },
      "execution_count": 6,
      "outputs": []
    },
    {
      "cell_type": "code",
      "source": [
        "list = [7, 5, 4, 3, 6, 8, 9]\n",
        "BubbleSort(list)"
      ],
      "metadata": {
        "colab": {
          "base_uri": "https://localhost:8080/"
        },
        "id": "licMEWpYlPX-",
        "outputId": "51d99ed4-08ca-4953-c063-76f130806f38"
      },
      "execution_count": 7,
      "outputs": [
        {
          "output_type": "execute_result",
          "data": {
            "text/plain": [
              "[3, 4, 5, 6, 7, 8, 9]"
            ]
          },
          "metadata": {},
          "execution_count": 7
        }
      ]
    },
    {
      "cell_type": "code",
      "source": [
        "list"
      ],
      "metadata": {
        "colab": {
          "base_uri": "https://localhost:8080/"
        },
        "id": "0-_6py-MlPdh",
        "outputId": "e1288ff2-353f-4716-8186-e63257d2ca06"
      },
      "execution_count": 8,
      "outputs": [
        {
          "output_type": "execute_result",
          "data": {
            "text/plain": [
              "[3, 4, 5, 6, 7, 8, 9]"
            ]
          },
          "metadata": {},
          "execution_count": 8
        }
      ]
    },
    {
      "cell_type": "code",
      "source": [
        "list = [100, 20, 60, 90, 40, 30, 10]\n",
        "BubbleSort(list)"
      ],
      "metadata": {
        "colab": {
          "base_uri": "https://localhost:8080/"
        },
        "id": "Wl5WhKiilPjh",
        "outputId": "c8f888ef-575b-45f0-c805-925a68784b41"
      },
      "execution_count": 9,
      "outputs": [
        {
          "output_type": "execute_result",
          "data": {
            "text/plain": [
              "[10, 20, 30, 40, 60, 90, 100]"
            ]
          },
          "metadata": {},
          "execution_count": 9
        }
      ]
    },
    {
      "cell_type": "code",
      "source": [
        "def InsertionSort (list):\n",
        "  for i in range (1, len(list)):\n",
        "    j = i - 1\n",
        "    next = list[i]\n",
        "# membandingan element saat ini dengan element selanjutnya\n",
        "\n",
        "    while (list[j] > next) and (j >= 0):\n",
        "      list [j+1] = list[j]\n",
        "      j = j - 1\n",
        "      list [j+1] = next\n",
        "  return list"
      ],
      "metadata": {
        "id": "iU6FEApwlPpd"
      },
      "execution_count": 10,
      "outputs": []
    },
    {
      "cell_type": "code",
      "source": [
        "list = [10, 23, 45, 21, 33, 87]\n",
        "InsertionSort (list)"
      ],
      "metadata": {
        "colab": {
          "base_uri": "https://localhost:8080/"
        },
        "id": "ZnRrvZFblPvc",
        "outputId": "b20132bb-51d8-4850-e27a-7e6ad1ab7552"
      },
      "execution_count": 11,
      "outputs": [
        {
          "output_type": "execute_result",
          "data": {
            "text/plain": [
              "[10, 21, 23, 33, 45, 87]"
            ]
          },
          "metadata": {},
          "execution_count": 11
        }
      ]
    },
    {
      "cell_type": "code",
      "source": [
        "list = [89, 12, 57, 16, 25, 11, 75]\n",
        "InsertionSort (list)"
      ],
      "metadata": {
        "colab": {
          "base_uri": "https://localhost:8080/"
        },
        "id": "QGur5jydlzky",
        "outputId": "1e192481-c76d-4f88-8ad1-7928a78e2b23"
      },
      "execution_count": 13,
      "outputs": [
        {
          "output_type": "execute_result",
          "data": {
            "text/plain": [
              "[11, 12, 16, 25, 57, 75, 89]"
            ]
          },
          "metadata": {},
          "execution_count": 13
        }
      ]
    },
    {
      "cell_type": "code",
      "source": [
        "def SelectionSort (list):\n",
        "  for fill_slot in range (len(list) - 1, 0, -1 ):\n",
        "    max_index = 0\n",
        "    for location in range (1, fill_slot + 1):\n",
        "      if list [location] > list[max_index]:\n",
        "        max_index = location\n",
        "    list [fill_slot], list [max_index] = list [max_index], list[fill_slot]\n",
        "  return list"
      ],
      "metadata": {
        "id": "TxPg0JGHlP02"
      },
      "execution_count": 12,
      "outputs": []
    },
    {
      "cell_type": "code",
      "source": [
        "list = [70, 15, 25, 19, 34, 44]\n",
        "SelectionSort (list)"
      ],
      "metadata": {
        "colab": {
          "base_uri": "https://localhost:8080/"
        },
        "id": "A95wL8fZlP6w",
        "outputId": "cfee2af8-588c-4e7a-9b2e-86a6271197ec"
      },
      "execution_count": 14,
      "outputs": [
        {
          "output_type": "execute_result",
          "data": {
            "text/plain": [
              "[15, 19, 25, 34, 44, 70]"
            ]
          },
          "metadata": {},
          "execution_count": 14
        }
      ]
    },
    {
      "cell_type": "code",
      "source": [
        "list = [89, 12, 57, 16, 25]\n",
        "SelectionSort (list)"
      ],
      "metadata": {
        "colab": {
          "base_uri": "https://localhost:8080/"
        },
        "id": "mbVRlH4ElQA5",
        "outputId": "9eb738d4-bd1a-43cd-9149-4caf7c49db66"
      },
      "execution_count": 15,
      "outputs": [
        {
          "output_type": "execute_result",
          "data": {
            "text/plain": [
              "[12, 16, 25, 57, 89]"
            ]
          },
          "metadata": {},
          "execution_count": 15
        }
      ]
    },
    {
      "cell_type": "code",
      "source": [
        "def LinearSearch (list, item):\n",
        "  index = 0\n",
        "  found = False\n",
        "# mencocokan nilai dengan masing-masing element data\n",
        "\n",
        "  while index < len(list) and found is False:\n",
        "    if list[index] == item:\n",
        "      found = True\n",
        "    else :\n",
        "      index = index + 1\n",
        "  return found\n",
        "\n"
      ],
      "metadata": {
        "id": "7IV4V13dlQJH"
      },
      "execution_count": 16,
      "outputs": []
    },
    {
      "cell_type": "code",
      "source": [
        "list = [12, 33, 11, 99, 22, 55, 90]\n",
        "print (LinearSearch(list, 12))\n",
        "print (LinearSearch(list, 91))"
      ],
      "metadata": {
        "colab": {
          "base_uri": "https://localhost:8080/"
        },
        "id": "PXyT7tuOlQPB",
        "outputId": "0031eb0b-b233-40ca-9b63-64f1805f9728"
      },
      "execution_count": 17,
      "outputs": [
        {
          "output_type": "stream",
          "name": "stdout",
          "text": [
            "True\n",
            "False\n"
          ]
        }
      ]
    },
    {
      "cell_type": "code",
      "source": [
        "list = ['y', 'u', 'i', 'w', 'o', 'a', 'q', 'u', 'j', 'p']\n",
        "print (LinearSearch(list, 'a'))"
      ],
      "metadata": {
        "colab": {
          "base_uri": "https://localhost:8080/"
        },
        "id": "nCU8opO8lQVT",
        "outputId": "d99f67a1-017b-44ee-a4a3-545925b8b420"
      },
      "execution_count": 18,
      "outputs": [
        {
          "output_type": "stream",
          "name": "stdout",
          "text": [
            "True\n"
          ]
        }
      ]
    },
    {
      "cell_type": "code",
      "source": [
        "def BinarySearch (list, item):\n",
        "  first = 0\n",
        "  last = len(list) - 1\n",
        "  found = False\n",
        "\n",
        "  while first < last and not found :\n",
        "    midpoint = (first + last)//2\n",
        "    if list [midpoint] == item:\n",
        "      found = True\n",
        "    else :\n",
        "      if item < list [midpoint]:\n",
        "        last = midpoint\n",
        "      else :\n",
        "        first = midpoint + 1\n",
        "  return found"
      ],
      "metadata": {
        "id": "WgBwtFqzlQbT"
      },
      "execution_count": 19,
      "outputs": []
    },
    {
      "cell_type": "code",
      "source": [
        "list = [12, 33, 11, 99, 22, 55, 90]\n",
        "sorted_list = BubbleSort(list)\n",
        "print (BinarySearch (sorted_list, 12))\n",
        "print (BinarySearch (sorted_list, 91))"
      ],
      "metadata": {
        "colab": {
          "base_uri": "https://localhost:8080/"
        },
        "id": "_ziEnTgPlQg8",
        "outputId": "e93ea67b-826e-425a-ed98-cc1bc177fa71"
      },
      "execution_count": 20,
      "outputs": [
        {
          "output_type": "stream",
          "name": "stdout",
          "text": [
            "True\n",
            "False\n"
          ]
        }
      ]
    },
    {
      "cell_type": "code",
      "source": [
        "list = ['y', 'u', 'i', 'w', 'o', 'a', 'q', 'u', 'j', 'p']\n",
        "sorted_list = BubbleSort(list)\n",
        "print (BinarySearch (sorted_list, 'a'))"
      ],
      "metadata": {
        "colab": {
          "base_uri": "https://localhost:8080/"
        },
        "id": "eP1qUq3alQml",
        "outputId": "dfc4b899-6990-4939-bb51-17da1f6f9fe4"
      },
      "execution_count": 21,
      "outputs": [
        {
          "output_type": "stream",
          "name": "stdout",
          "text": [
            "True\n"
          ]
        }
      ]
    },
    {
      "cell_type": "code",
      "source": [
        "def IntPolSearch (list, x):\n",
        "  idx0 = 0\n",
        "  idxn = (len(list) - 1)\n",
        "  found = False\n",
        "  while idx0 <= idxn and x >= list [idx0] and x <= list [idxn]:\n",
        "    mid = idx0 + int(((float (idxn - idx0) / (list [idxn] - list [idx0])) * ( x - list [idx0])))\n",
        "\n",
        "    if list [mid] == x:\n",
        "      found = True\n",
        "      return found\n",
        "\n",
        "    if list [mid] < x:\n",
        "      idx0 = mid + 1\n",
        "  return found\n"
      ],
      "metadata": {
        "id": "9dHRSvnolQsZ"
      },
      "execution_count": 22,
      "outputs": []
    },
    {
      "cell_type": "code",
      "source": [
        "list = [12, 33, 11, 99, 22, 55, 90]\n",
        "sorted_list = BubbleSort(list)\n",
        "print (IntPolSearch (sorted_list, 12))\n",
        "print (IntPolSearch (sorted_list, 91))"
      ],
      "metadata": {
        "colab": {
          "base_uri": "https://localhost:8080/"
        },
        "id": "LGqdHADolQyI",
        "outputId": "7ca849ca-21c0-4c73-bec5-0dff3f8d0ee5"
      },
      "execution_count": 23,
      "outputs": [
        {
          "output_type": "stream",
          "name": "stdout",
          "text": [
            "True\n",
            "False\n"
          ]
        }
      ]
    },
    {
      "cell_type": "code",
      "source": [
        "list = ['y', 'u', 'i', 'w', 'o', 'a', 'q', 'u', 'j', 'p']\n",
        "sorted_list = BubbleSort(list)"
      ],
      "metadata": {
        "id": "7xNFk4HulQ3V"
      },
      "execution_count": 24,
      "outputs": []
    }
  ]
}