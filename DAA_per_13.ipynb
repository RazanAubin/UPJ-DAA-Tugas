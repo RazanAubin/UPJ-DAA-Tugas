{
 "cells": [
  {
   "cell_type": "code",
   "execution_count": 83,
   "metadata": {},
   "outputs": [],
   "source": [
    "def bfs(graph,start):\n",
    "    visited = []\n",
    "    queue = []\n",
    "    queue = [start]\n",
    "    while queue:\n",
    "        node = queue.pop(0)\n",
    "        if node not in visited:\n",
    "            visited.append(node)\n",
    "            neighbours = graph[node]\n",
    "            for neighbours in neighbours:\n",
    "                queue.append(neighbours)\n",
    "    return visited"
   ]
  },
  {
   "cell_type": "code",
   "execution_count": 84,
   "metadata": {},
   "outputs": [],
   "source": [
    "graph = {'Amin' : ['Wasim','Nick','Mike'],\n",
    "         'Wasim' : ['Imran','Amin'],\n",
    "         'Imran' : ['Wasim','Faras'],\n",
    "         'Faras' : ['Imran'],\n",
    "         'Mike' : ['Amin'],\n",
    "         'Nick' : ['Amin']\n",
    "         }"
   ]
  },
  {
   "cell_type": "code",
   "execution_count": 85,
   "metadata": {},
   "outputs": [
    {
     "data": {
      "text/plain": [
       "['Wasim', 'Imran', 'Amin', 'Faras', 'Nick', 'Mike']"
      ]
     },
     "execution_count": 85,
     "metadata": {},
     "output_type": "execute_result"
    }
   ],
   "source": [
    "bfs(graph,'Wasim')"
   ]
  },
  {
   "cell_type": "code",
   "execution_count": 86,
   "metadata": {},
   "outputs": [],
   "source": [
    "def bfs_Rektor(graph,start):\n",
    "    visited = []\n",
    "    queue = []\n",
    "    queue = [start]\n",
    "    while queue:\n",
    "        node = queue.pop(0)\n",
    "        if node not in visited:\n",
    "            visited.append(node)\n",
    "            neighbours = graph[node]\n",
    "            for neighbours in neighbours:\n",
    "                queue.append(neighbours)\n",
    "    return visited"
   ]
  },
  {
   "cell_type": "code",
   "execution_count": 87,
   "metadata": {},
   "outputs": [],
   "source": [
    "graph = {'Rektor' : ['Warek 1','Warek 2'],\n",
    "         'Warek 1' : ['Rektor'],\n",
    "         'Warek 2' : ['Kaprodi 1','Kaprodi 2','Kaprodi 3','Rektor'],\n",
    "         'Kaprodi 1' : ['Dosen A','Dosen B','Dosen C','Warek 2'],\n",
    "         'Kaprodi 2' : ['Dosen D','Dosen E','Warek 2'],\n",
    "         'Kaprodi 3' : ['Dosen F','Dosen G','Warek 2'],\n",
    "         'Dosen A' : ['Kaprodi 1'],\n",
    "         'Dosen B' : ['Kaprodi 1'],\n",
    "         'Dosen C' : ['Kaprodi 1'],\n",
    "         'Dosen D' : ['Kaprodi 2'],\n",
    "         'Dosen E' : ['Kaprodi 2'],\n",
    "         'Dosen F' : ['Kaprodi 3'],\n",
    "         'Dosen G' : ['Kaprodi 3']\n",
    "         }"
   ]
  },
  {
   "cell_type": "code",
   "execution_count": 88,
   "metadata": {},
   "outputs": [
    {
     "data": {
      "text/plain": [
       "['Dosen A',\n",
       " 'Kaprodi 1',\n",
       " 'Dosen B',\n",
       " 'Dosen C',\n",
       " 'Warek 2',\n",
       " 'Kaprodi 2',\n",
       " 'Kaprodi 3',\n",
       " 'Rektor',\n",
       " 'Dosen D',\n",
       " 'Dosen E',\n",
       " 'Dosen F',\n",
       " 'Dosen G',\n",
       " 'Warek 1']"
      ]
     },
     "execution_count": 88,
     "metadata": {},
     "output_type": "execute_result"
    }
   ],
   "source": [
    "bfs_Rektor(graph,'Dosen A')"
   ]
  },
  {
   "cell_type": "code",
   "execution_count": 89,
   "metadata": {},
   "outputs": [],
   "source": [
    "def bfs_0(graph,start):\n",
    "    visited = []\n",
    "    queue = []\n",
    "    queue = [start]\n",
    "    while queue:\n",
    "        node = queue.pop(0)\n",
    "        if node not in visited:\n",
    "            visited.append(node)\n",
    "            neighbours = graph[node]\n",
    "            for neighbours in neighbours:\n",
    "                queue.append(neighbours)\n",
    "    return visited"
   ]
  },
  {
   "cell_type": "code",
   "execution_count": 90,
   "metadata": {},
   "outputs": [],
   "source": [
    "graph =     { '0'  : ['7', '11', '9'],\n",
    "             '9'  : ['8', '10'],\n",
    "             '11'  : ['0', '7'],\n",
    "             '7'  : ['6','3', '11', '0'],\n",
    "             '10' : ['1', '9'],\n",
    "             '8'  : ['12', '1'],\n",
    "             '1'  : ['8', '10'],\n",
    "             '12' : ['2', '8'],\n",
    "             '2'  : ['3', '12'],\n",
    "             '3'  : ['4', '7', '2'],\n",
    "             '6'  : ['5', '7'],\n",
    "             '5'  : ['6'],\n",
    "             '4'  : ['3']\n",
    "            }"
   ]
  },
  {
   "cell_type": "code",
   "execution_count": 91,
   "metadata": {},
   "outputs": [
    {
     "data": {
      "text/plain": [
       "['0', '7', '11', '9', '6', '3', '8', '10', '5', '4', '2', '12', '1']"
      ]
     },
     "execution_count": 91,
     "metadata": {},
     "output_type": "execute_result"
    }
   ],
   "source": [
    "bfs_0(graph, '0')"
   ]
  },
  {
   "cell_type": "code",
   "execution_count": 92,
   "metadata": {},
   "outputs": [],
   "source": [
    "def dfs(visited, graph, node):\n",
    "    if node not in visited:\n",
    "        print(node)\n",
    "        visited.add(node)\n",
    "        for neighbour in graph[node]:\n",
    "            dfs(visited, graph, neighbour)"
   ]
  },
  {
   "cell_type": "code",
   "execution_count": 93,
   "metadata": {},
   "outputs": [],
   "source": [
    "graph = graph = {'Amin' : ['Wasim','Nick','Mike'],\n",
    "         'Wasim' : ['Imran','Amin'],\n",
    "         'Imran' : ['Wasim','Faras'],\n",
    "         'Faras' : ['Imran'],\n",
    "         'Mike' : ['Amin'],\n",
    "         'Nick' : ['Amin']\n",
    "         }"
   ]
  },
  {
   "cell_type": "code",
   "execution_count": 94,
   "metadata": {},
   "outputs": [
    {
     "name": "stdout",
     "output_type": "stream",
     "text": [
      "Amin\n",
      "Wasim\n",
      "Imran\n",
      "Faras\n",
      "Nick\n",
      "Mike\n"
     ]
    }
   ],
   "source": [
    "visited = set()\n",
    "dfs(visited, graph, 'Amin')"
   ]
  },
  {
   "cell_type": "code",
   "execution_count": 101,
   "metadata": {},
   "outputs": [],
   "source": [
    "def dfsRektor(visited, graph, node):\n",
    "    if node not in visited:\n",
    "        print(node)\n",
    "        visited.add(node)\n",
    "        for neighbour in graph[node]:\n",
    "            dfs(visited, graph, neighbour)"
   ]
  },
  {
   "cell_type": "code",
   "execution_count": 102,
   "metadata": {},
   "outputs": [],
   "source": [
    "graph = graph = {'Rektor' : ['Warek 1','Warek 2'],\n",
    "         'Warek 1' : ['Rektor'],\n",
    "         'Warek 2' : ['Kaprodi 1','Kaprodi 2','Kaprodi 3','Rektor'],\n",
    "         'Kaprodi 1' : ['Dosen A','Dosen B','Dosen C','Warek 2'],\n",
    "         'Kaprodi 2' : ['Dosen D','Dosen E','Warek 2'],\n",
    "         'Kaprodi 3' : ['Dosen F','Dosen G','Warek 2'],\n",
    "         'Dosen A' : ['Kaprodi 1'],\n",
    "         'Dosen B' : ['Kaprodi 1'],\n",
    "         'Dosen C' : ['Kaprodi 1'],\n",
    "         'Dosen D' : ['Kaprodi 2'],\n",
    "         'Dosen E' : ['Kaprodi 2'],\n",
    "         'Dosen F' : ['Kaprodi 3'],\n",
    "         'Dosen G' : ['Kaprodi 3']\n",
    "         }"
   ]
  },
  {
   "cell_type": "code",
   "execution_count": 103,
   "metadata": {},
   "outputs": [
    {
     "name": "stdout",
     "output_type": "stream",
     "text": [
      "Rektor\n",
      "Warek 1\n",
      "Warek 2\n",
      "Kaprodi 1\n",
      "Dosen A\n",
      "Dosen B\n",
      "Dosen C\n",
      "Kaprodi 2\n",
      "Dosen D\n",
      "Dosen E\n",
      "Kaprodi 3\n",
      "Dosen F\n",
      "Dosen G\n"
     ]
    }
   ],
   "source": [
    "visited = set()\n",
    "dfsRektor(visited, graph, 'Rektor')"
   ]
  },
  {
   "cell_type": "code",
   "execution_count": 98,
   "metadata": {},
   "outputs": [],
   "source": [
    "def dfs_0(visited, graph, node):\n",
    "    if node not in visited:\n",
    "        print(node)\n",
    "        visited.add(node)\n",
    "        for neighbour in graph[node]:\n",
    "            dfs(visited, graph, neighbour)"
   ]
  },
  {
   "cell_type": "code",
   "execution_count": 99,
   "metadata": {},
   "outputs": [],
   "source": [
    "graph = graph = { '0'  : ['7', '11', '9'],\n",
    "             '9'  : ['8', '10'],\n",
    "             '11'  : ['0', '7'],\n",
    "             '7'  : ['6','3', '11', '0'],\n",
    "             '10' : ['1', '9'],\n",
    "             '8'  : ['12', '1'],\n",
    "             '1'  : ['8', '10'],\n",
    "             '12' : ['2', '8'],\n",
    "             '2'  : ['3', '12'],\n",
    "             '3'  : ['4', '7', '2'],\n",
    "             '6'  : ['5', '7'],\n",
    "             '5'  : ['6'],\n",
    "             '4'  : ['3']\n",
    "            }"
   ]
  },
  {
   "cell_type": "code",
   "execution_count": 100,
   "metadata": {},
   "outputs": [
    {
     "name": "stdout",
     "output_type": "stream",
     "text": [
      "0\n",
      "7\n",
      "6\n",
      "5\n",
      "3\n",
      "4\n",
      "2\n",
      "12\n",
      "8\n",
      "1\n",
      "10\n",
      "9\n",
      "11\n"
     ]
    }
   ],
   "source": [
    "visited = set()\n",
    "dfs_0(visited, graph, '0')"
   ]
  }
 ],
 "metadata": {
  "kernelspec": {
   "display_name": "Python 3",
   "language": "python",
   "name": "python3"
  },
  "language_info": {
   "codemirror_mode": {
    "name": "ipython",
    "version": 3
   },
   "file_extension": ".py",
   "mimetype": "text/x-python",
   "name": "python",
   "nbconvert_exporter": "python",
   "pygments_lexer": "ipython3",
   "version": "3.11.5"
  }
 },
 "nbformat": 4,
 "nbformat_minor": 2
}
